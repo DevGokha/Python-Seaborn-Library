{
 "cells": [
  {
   "cell_type": "code",
   "execution_count": 1,
   "id": "dcf568d6",
   "metadata": {},
   "outputs": [],
   "source": [
    "import pandas as pd\n",
    "import numpy as np\n",
    "import matplotlib.pyplot as plt\n",
    "import seaborn as sns\n",
    "import statistics as sts\n",
    "\n",
    "pd.set_option('display.max_rows',None)"
   ]
  },
  {
   "cell_type": "code",
   "execution_count": 2,
   "id": "d2d436bf",
   "metadata": {},
   "outputs": [
    {
     "data": {
      "text/html": [
       "<div>\n",
       "<style scoped>\n",
       "    .dataframe tbody tr th:only-of-type {\n",
       "        vertical-align: middle;\n",
       "    }\n",
       "\n",
       "    .dataframe tbody tr th {\n",
       "        vertical-align: top;\n",
       "    }\n",
       "\n",
       "    .dataframe thead th {\n",
       "        text-align: right;\n",
       "    }\n",
       "</style>\n",
       "<table border=\"1\" class=\"dataframe\">\n",
       "  <thead>\n",
       "    <tr style=\"text-align: right;\">\n",
       "      <th></th>\n",
       "      <th>Gender</th>\n",
       "      <th>Payment</th>\n",
       "      <th>Unit price</th>\n",
       "      <th>Quantity</th>\n",
       "      <th>Total</th>\n",
       "      <th>gross income</th>\n",
       "    </tr>\n",
       "  </thead>\n",
       "  <tbody>\n",
       "    <tr>\n",
       "      <th>0</th>\n",
       "      <td>Female</td>\n",
       "      <td>Credit card</td>\n",
       "      <td>54.84</td>\n",
       "      <td>3</td>\n",
       "      <td>172.7460</td>\n",
       "      <td>8.2260</td>\n",
       "    </tr>\n",
       "    <tr>\n",
       "      <th>1</th>\n",
       "      <td>Female</td>\n",
       "      <td>Ewallet</td>\n",
       "      <td>14.48</td>\n",
       "      <td>4</td>\n",
       "      <td>60.8160</td>\n",
       "      <td>2.8960</td>\n",
       "    </tr>\n",
       "    <tr>\n",
       "      <th>2</th>\n",
       "      <td>Male</td>\n",
       "      <td>Cash</td>\n",
       "      <td>25.51</td>\n",
       "      <td>4</td>\n",
       "      <td>107.1420</td>\n",
       "      <td>5.1020</td>\n",
       "    </tr>\n",
       "    <tr>\n",
       "      <th>3</th>\n",
       "      <td>Female</td>\n",
       "      <td>Cash</td>\n",
       "      <td>93.72</td>\n",
       "      <td>6</td>\n",
       "      <td>590.4360</td>\n",
       "      <td>28.1160</td>\n",
       "    </tr>\n",
       "    <tr>\n",
       "      <th>4</th>\n",
       "      <td>Female</td>\n",
       "      <td>Ewallet</td>\n",
       "      <td>40.30</td>\n",
       "      <td>2</td>\n",
       "      <td>84.6300</td>\n",
       "      <td>4.0300</td>\n",
       "    </tr>\n",
       "    <tr>\n",
       "      <th>5</th>\n",
       "      <td>Male</td>\n",
       "      <td>Ewallet</td>\n",
       "      <td>87.98</td>\n",
       "      <td>3</td>\n",
       "      <td>277.1370</td>\n",
       "      <td>13.1970</td>\n",
       "    </tr>\n",
       "    <tr>\n",
       "      <th>6</th>\n",
       "      <td>Male</td>\n",
       "      <td>Credit card</td>\n",
       "      <td>33.20</td>\n",
       "      <td>2</td>\n",
       "      <td>69.7200</td>\n",
       "      <td>3.3200</td>\n",
       "    </tr>\n",
       "    <tr>\n",
       "      <th>7</th>\n",
       "      <td>Male</td>\n",
       "      <td>Cash</td>\n",
       "      <td>33.52</td>\n",
       "      <td>1</td>\n",
       "      <td>35.1960</td>\n",
       "      <td>1.6760</td>\n",
       "    </tr>\n",
       "    <tr>\n",
       "      <th>8</th>\n",
       "      <td>Female</td>\n",
       "      <td>Cash</td>\n",
       "      <td>88.36</td>\n",
       "      <td>5</td>\n",
       "      <td>463.8900</td>\n",
       "      <td>22.0900</td>\n",
       "    </tr>\n",
       "    <tr>\n",
       "      <th>9</th>\n",
       "      <td>Male</td>\n",
       "      <td>Credit card</td>\n",
       "      <td>94.13</td>\n",
       "      <td>5</td>\n",
       "      <td>494.1825</td>\n",
       "      <td>23.5325</td>\n",
       "    </tr>\n",
       "  </tbody>\n",
       "</table>\n",
       "</div>"
      ],
      "text/plain": [
       "   Gender      Payment  Unit price  Quantity     Total  gross income\n",
       "0  Female  Credit card       54.84         3  172.7460        8.2260\n",
       "1  Female      Ewallet       14.48         4   60.8160        2.8960\n",
       "2    Male         Cash       25.51         4  107.1420        5.1020\n",
       "3  Female         Cash       93.72         6  590.4360       28.1160\n",
       "4  Female      Ewallet       40.30         2   84.6300        4.0300\n",
       "5    Male      Ewallet       87.98         3  277.1370       13.1970\n",
       "6    Male  Credit card       33.20         2   69.7200        3.3200\n",
       "7    Male         Cash       33.52         1   35.1960        1.6760\n",
       "8  Female         Cash       88.36         5  463.8900       22.0900\n",
       "9    Male  Credit card       94.13         5  494.1825       23.5325"
      ]
     },
     "execution_count": 2,
     "metadata": {},
     "output_type": "execute_result"
    }
   ],
   "source": [
    "mart = pd.read_excel(\"C:/Users/DEV/Downloads/supermarket_sales.xlsx\")\n",
    "mart = mart[['Gender','Payment','Unit price','Quantity','Total','gross income']]\n",
    "mart.head(10)"
   ]
  },
  {
   "cell_type": "code",
   "execution_count": 8,
   "id": "fc0029e7",
   "metadata": {},
   "outputs": [
    {
     "data": {
      "text/plain": [
       "<Axes: xlabel='Count', ylabel='gross income'>"
      ]
     },
     "execution_count": 8,
     "metadata": {},
     "output_type": "execute_result"
    },
    {
     "data": {
      "image/png": "[encoded data removed]",
      "text/plain": [
       "<Figure size 640x480 with 1 Axes>"
      ]
     },
     "metadata": {},
     "output_type": "display_data"
    }
   ],
   "source": [
    "sns.ecdfplot(data=mart,y='gross income',hue= 'Gender',stat='count')"
   ]
  }
 ],
 "metadata": {
  "kernelspec": {
   "display_name": "Python 3 (ipykernel)",
   "language": "python",
   "name": "python3"
  },
  "language_info": {
   "codemirror_mode": {
    "name": "ipython",
    "version": 3
   },
   "file_extension": ".py",
   "mimetype": "text/x-python",
   "name": "python",
   "nbconvert_exporter": "python",
   "pygments_lexer": "ipython3",
   "version": "3.10.9"
  }
 },
 "nbformat": 4,
 "nbformat_minor": 5
}
