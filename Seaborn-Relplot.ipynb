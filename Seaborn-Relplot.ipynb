{
 "cells": [
  {
   "cell_type": "code",
   "execution_count": 6,
   "id": "b499b985",
   "metadata": {},
   "outputs": [
    {
     "data": {
      "text/html": [
       "<div>\n",
       "<style scoped>\n",
       "    .dataframe tbody tr th:only-of-type {\n",
       "        vertical-align: middle;\n",
       "    }\n",
       "\n",
       "    .dataframe tbody tr th {\n",
       "        vertical-align: top;\n",
       "    }\n",
       "\n",
       "    .dataframe thead th {\n",
       "        text-align: right;\n",
       "    }\n",
       "</style>\n",
       "<table border=\"1\" class=\"dataframe\">\n",
       "  <thead>\n",
       "    <tr style=\"text-align: right;\">\n",
       "      <th></th>\n",
       "      <th>unnamed: 0</th>\n",
       "      <th>item_id</th>\n",
       "      <th>item_w</th>\n",
       "      <th>item_type</th>\n",
       "      <th>item_mrp</th>\n",
       "      <th>outlet_id</th>\n",
       "      <th>outlet_year</th>\n",
       "      <th>outlet_size</th>\n",
       "      <th>outlet_location_type</th>\n",
       "      <th>sales</th>\n",
       "      <th>tier</th>\n",
       "    </tr>\n",
       "  </thead>\n",
       "  <tbody>\n",
       "    <tr>\n",
       "      <th>6749</th>\n",
       "      <td>6749</td>\n",
       "      <td>FDQ23</td>\n",
       "      <td>20.985266</td>\n",
       "      <td>Fruits and Vegetables</td>\n",
       "      <td>60.353055</td>\n",
       "      <td>OUT035</td>\n",
       "      <td>2004</td>\n",
       "      <td>Small</td>\n",
       "      <td>Tier 2</td>\n",
       "      <td>559.658900</td>\n",
       "      <td>2</td>\n",
       "    </tr>\n",
       "    <tr>\n",
       "      <th>71855</th>\n",
       "      <td>71855</td>\n",
       "      <td>FDZ20</td>\n",
       "      <td>9.035641</td>\n",
       "      <td>Frozen Foods</td>\n",
       "      <td>112.940677</td>\n",
       "      <td>OUT046</td>\n",
       "      <td>1999</td>\n",
       "      <td>Small</td>\n",
       "      <td>Tier 1</td>\n",
       "      <td>3150.844928</td>\n",
       "      <td>1</td>\n",
       "    </tr>\n",
       "    <tr>\n",
       "      <th>24424</th>\n",
       "      <td>24424</td>\n",
       "      <td>NCZ53</td>\n",
       "      <td>20.775789</td>\n",
       "      <td>Soft Drinks</td>\n",
       "      <td>130.170219</td>\n",
       "      <td>OUT046</td>\n",
       "      <td>2003</td>\n",
       "      <td>Small</td>\n",
       "      <td>Tier 1</td>\n",
       "      <td>1691.228398</td>\n",
       "      <td>1</td>\n",
       "    </tr>\n",
       "    <tr>\n",
       "      <th>82270</th>\n",
       "      <td>82270</td>\n",
       "      <td>NCP05</td>\n",
       "      <td>8.449526</td>\n",
       "      <td>Meat</td>\n",
       "      <td>193.072176</td>\n",
       "      <td>OUT035</td>\n",
       "      <td>1999</td>\n",
       "      <td>Medium</td>\n",
       "      <td>Tier 1</td>\n",
       "      <td>3868.805806</td>\n",
       "      <td>1</td>\n",
       "    </tr>\n",
       "    <tr>\n",
       "      <th>28812</th>\n",
       "      <td>28812</td>\n",
       "      <td>FDF59</td>\n",
       "      <td>16.774516</td>\n",
       "      <td>Meat</td>\n",
       "      <td>126.171498</td>\n",
       "      <td>OUT018</td>\n",
       "      <td>1987</td>\n",
       "      <td>Small</td>\n",
       "      <td>Tier 3</td>\n",
       "      <td>2669.284689</td>\n",
       "      <td>3</td>\n",
       "    </tr>\n",
       "  </tbody>\n",
       "</table>\n",
       "</div>"
      ],
      "text/plain": [
       "       unnamed: 0 item_id     item_w              item_type    item_mrp  \\\n",
       "6749         6749   FDQ23  20.985266  Fruits and Vegetables   60.353055   \n",
       "71855       71855   FDZ20   9.035641           Frozen Foods  112.940677   \n",
       "24424       24424   NCZ53  20.775789            Soft Drinks  130.170219   \n",
       "82270       82270   NCP05   8.449526                   Meat  193.072176   \n",
       "28812       28812   FDF59  16.774516                   Meat  126.171498   \n",
       "\n",
       "      outlet_id  outlet_year outlet_size outlet_location_type        sales  \\\n",
       "6749     OUT035         2004       Small               Tier 2   559.658900   \n",
       "71855    OUT046         1999       Small               Tier 1  3150.844928   \n",
       "24424    OUT046         2003       Small               Tier 1  1691.228398   \n",
       "82270    OUT035         1999      Medium               Tier 1  3868.805806   \n",
       "28812    OUT018         1987       Small               Tier 3  2669.284689   \n",
       "\n",
       "       tier  \n",
       "6749      2  \n",
       "71855     1  \n",
       "24424     1  \n",
       "82270     1  \n",
       "28812     3  "
      ]
     },
     "execution_count": 6,
     "metadata": {},
     "output_type": "execute_result"
    }
   ],
   "source": [
    "import pandas as pd\n",
    "import matplotlib.pyplot as plt\n",
    "import seaborn as sns\n",
    "mart = pd.read_excel(r\"C:/Users/DEV/Downloads/mart_linePlot.xlsx\").sample(n=50)\n",
    "mart.columns=mart.columns.str.lower()\n",
    "mart.head()"
   ]
  },
  {
   "cell_type": "code",
   "execution_count": 18,
   "id": "4ca40687",
   "metadata": {},
   "outputs": [
    {
     "data": {
      "text/plain": [
       "<seaborn.axisgrid.FacetGrid at 0x1d18e7d0ca0>"
      ]
     },
     "execution_count": 18,
     "metadata": {},
     "output_type": "execute_result"
    },
    {
     "data": {
      "image/png": "[encoded data removed]",
      "text/plain": [
       "<Figure size 605.5x500 with 1 Axes>"
      ]
     },
     "metadata": {},
     "output_type": "display_data"
    }
   ],
   "source": [
    "sns.relplot(data=mart,x='outlet_year',y='sales',s=100,\n",
    "            hue='outlet_size',\n",
    "#             col='item_type',\n",
    "#            col_wrap=3\n",
    "#            col='outlet_size'\n",
    "#            ,row='tier'\n",
    "           palette=['green','red','yellow'])"
   ]
  },
  {
   "cell_type": "code",
   "execution_count": null,
   "id": "1684a5a0",
   "metadata": {},
   "outputs": [],
   "source": []
  },
  {
   "cell_type": "code",
   "execution_count": null,
   "id": "45d60c25",
   "metadata": {},
   "outputs": [],
   "source": []
  },
  {
   "cell_type": "code",
   "execution_count": null,
   "id": "2493c09a",
   "metadata": {},
   "outputs": [],
   "source": []
  },
  {
   "cell_type": "code",
   "execution_count": null,
   "id": "55360903",
   "metadata": {},
   "outputs": [],
   "source": []
  }
 ],
 "metadata": {
  "kernelspec": {
   "display_name": "Python 3 (ipykernel)",
   "language": "python",
   "name": "python3"
  },
  "language_info": {
   "codemirror_mode": {
    "name": "ipython",
    "version": 3
   },
   "file_extension": ".py",
   "mimetype": "text/x-python",
   "name": "python",
   "nbconvert_exporter": "python",
   "pygments_lexer": "ipython3",
   "version": "3.10.9"
  }
 },
 "nbformat": 4,
 "nbformat_minor": 5
}
